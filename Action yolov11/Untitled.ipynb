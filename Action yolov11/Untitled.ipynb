{
 "cells": [
  {
   "cell_type": "code",
   "execution_count": null,
   "id": "37b4ff00-ca0e-42fb-bc44-e491da990611",
   "metadata": {},
   "outputs": [],
   "source": [
    "from ultralytics import YOLO\n",
    "import cv2\n",
    "import torch\n",
    "\n",
    "# Select GPU if available\n",
    "device = torch.device('cuda' if torch.cuda.is_available() else 'cpu')\n",
    "\n",
    "# Load the trained YOLO action model\n",
    "model_action = YOLO(r\"C:\\path\\to\\your\\signlanguagemodel\\weights\\best.pt\")\n",
    "\n",
    "# Open webcam\n",
    "cap = cv2.VideoCapture(0)  # Change to 1, 2, etc., if using an external camera\n",
    "\n",
    "if not cap.isOpened():\n",
    "    print(\"Error: Could not open webcam.\")\n",
    "    exit()\n",
    "\n",
    "# Frame settings\n",
    "frame_width, frame_height = 640, 360\n",
    "cv2.namedWindow(\"Sign Language Action Detection\", cv2.WINDOW_NORMAL)\n",
    "cv2.resizeWindow(\"Sign Language Action Detection\", frame_width, frame_height)\n",
    "\n",
    "# Real-time detection loop\n",
    "while True:\n",
    "    ret, frame = cap.read()\n",
    "    if not ret:\n",
    "        print(\"Error: Could not read frame.\")\n",
    "        break\n",
    "\n",
    "    # Resize for faster processing\n",
    "    frame = cv2.resize(frame, (frame_width, frame_height))\n",
    "\n",
    "    # Perform inference\n",
    "    results_action = model_action(frame, device=device)\n",
    "\n",
    "    # Annotate detections\n",
    "    if len(results_action) > 0 and results_action[0].boxes is not None:\n",
    "        annotated_frame = results_action[0].plot()\n",
    "    else:\n",
    "        annotated_frame = frame\n",
    "\n",
    "    # Show the output\n",
    "    cv2.imshow('Sign Language Action Detection', annotated_frame)\n",
    "\n",
    "    # Quit on pressing 'q'\n",
    "    if cv2.waitKey(1) & 0xFF == ord('q'):\n",
    "        break\n",
    "\n",
    "# Cleanup\n",
    "cap.release()\n",
    "cv2.destroyAllWindows()\n"
   ]
  }
 ],
 "metadata": {
  "kernelspec": {
   "display_name": "Python 3 (ipykernel)",
   "language": "python",
   "name": "python3"
  },
  "language_info": {
   "codemirror_mode": {
    "name": "ipython",
    "version": 3
   },
   "file_extension": ".py",
   "mimetype": "text/x-python",
   "name": "python",
   "nbconvert_exporter": "python",
   "pygments_lexer": "ipython3",
   "version": "3.12.5"
  }
 },
 "nbformat": 4,
 "nbformat_minor": 5
}
